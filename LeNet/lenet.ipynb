{
 "cells": [
  {
   "cell_type": "code",
   "execution_count": 92,
   "id": "6b62ea01",
   "metadata": {},
   "outputs": [],
   "source": [
    "import torch\n",
    "from torch import nn\n",
    "import torchvision\n",
    "from torchvision.transforms import ToTensor\n",
    "from torch.utils.data import DataLoader\n",
    "from torch.utils.tensorboard import SummaryWriter"
   ]
  },
  {
   "cell_type": "code",
   "execution_count": 93,
   "id": "cd0be0fc",
   "metadata": {},
   "outputs": [],
   "source": [
    "writer = SummaryWriter()"
   ]
  },
  {
   "cell_type": "code",
   "execution_count": 94,
   "id": "9ec94594",
   "metadata": {},
   "outputs": [
    {
     "data": {
      "text/plain": [
       "(60000, 10000)"
      ]
     },
     "execution_count": 94,
     "metadata": {},
     "output_type": "execute_result"
    }
   ],
   "source": [
    "fashion_mnist_train = torchvision.datasets.FashionMNIST(root='data', train=True, download=True, transform=ToTensor()) # normalized\n",
    "fashion_mnist_test = torchvision.datasets.FashionMNIST(root='data', train=False, download=True, transform=ToTensor()) # normalized\n",
    "len(fashion_mnist_train), len(fashion_mnist_test)"
   ]
  },
  {
   "cell_type": "code",
   "execution_count": 95,
   "id": "8e6e7981",
   "metadata": {},
   "outputs": [],
   "source": [
    "class LeNet(nn.Module):\n",
    "    def __init__(self):\n",
    "        super().__init__()\n",
    "        self.model =  nn.Sequential(nn.Conv2d(1,6,5, padding=2),\n",
    "                                    nn.Sigmoid(),\n",
    "                                    nn.AvgPool2d(2, stride=2),\n",
    "                                    nn.Conv2d(6,16,5),\n",
    "                                    nn.Sigmoid(),\n",
    "                                    nn.AvgPool2d(2, stride=2),\n",
    "                                    nn.Flatten(),\n",
    "                                    nn.Linear(400, 120),\n",
    "                                    nn.Sigmoid(),\n",
    "                                    nn.Linear(120, 84),\n",
    "                                    nn.Sigmoid(),\n",
    "                                    nn.Linear(84, 10))\n",
    "\n",
    "    def forward(self, x):\n",
    "        x = self.model(x)\n",
    "        return x"
   ]
  },
  {
   "cell_type": "code",
   "execution_count": 96,
   "id": "03119e25",
   "metadata": {},
   "outputs": [
    {
     "data": {
      "text/plain": [
       "LeNet(\n",
       "  (model): Sequential(\n",
       "    (0): Conv2d(1, 6, kernel_size=(5, 5), stride=(1, 1), padding=(2, 2))\n",
       "    (1): Sigmoid()\n",
       "    (2): AvgPool2d(kernel_size=2, stride=2, padding=0)\n",
       "    (3): Conv2d(6, 16, kernel_size=(5, 5), stride=(1, 1))\n",
       "    (4): Sigmoid()\n",
       "    (5): AvgPool2d(kernel_size=2, stride=2, padding=0)\n",
       "    (6): Flatten(start_dim=1, end_dim=-1)\n",
       "    (7): Linear(in_features=400, out_features=120, bias=True)\n",
       "    (8): Sigmoid()\n",
       "    (9): Linear(in_features=120, out_features=84, bias=True)\n",
       "    (10): Sigmoid()\n",
       "    (11): Linear(in_features=84, out_features=10, bias=True)\n",
       "  )\n",
       ")"
      ]
     },
     "execution_count": 96,
     "metadata": {},
     "output_type": "execute_result"
    }
   ],
   "source": [
    "lenet = LeNet()\n",
    "lenet"
   ]
  },
  {
   "cell_type": "code",
   "execution_count": 97,
   "id": "c057778c",
   "metadata": {},
   "outputs": [],
   "source": [
    "epochs = 50\n",
    "learning_rate = 0.1\n",
    "batch_size = 64"
   ]
  },
  {
   "cell_type": "code",
   "execution_count": 98,
   "id": "9d205507",
   "metadata": {},
   "outputs": [],
   "source": [
    "dataloader_train = DataLoader(fashion_mnist_train, batch_size=batch_size, shuffle=True)\n",
    "dataloader_test = DataLoader(fashion_mnist_test, batch_size=batch_size, shuffle=True)\n",
    "\n",
    "num_train_batches = len(dataloader_train)\n",
    "num_test_batches = len(dataloader_test)\n",
    "\n",
    "loss = nn.CrossEntropyLoss()\n",
    "optimizer = torch.optim.SGD(lenet.parameters(), lr=learning_rate)"
   ]
  },
  {
   "cell_type": "code",
   "execution_count": 99,
   "id": "44b736db",
   "metadata": {},
   "outputs": [],
   "source": [
    "for epoch in range(epochs):\n",
    "    train_loss = 0\n",
    "    train_acc = 0\n",
    "\n",
    "    lenet.train()\n",
    "    for batch_idx, (train_features, train_labels) in enumerate(dataloader_train):\n",
    "        \n",
    "        optimizer.zero_grad()\n",
    "\n",
    "        predictions = lenet(train_features)\n",
    "        predictions_labels = torch.argmax(predictions, dim=1)\n",
    "\n",
    "        train_batch_acc = (predictions_labels == train_labels).sum().item() / train_features.shape[0]\n",
    "\n",
    "        train_batch_loss = loss(predictions, train_labels)\n",
    "        train_batch_loss.backward()\n",
    "\n",
    "        optimizer.step()\n",
    "\n",
    "        train_loss += train_batch_loss.item()\n",
    "        train_acc += train_batch_acc\n",
    "\n",
    "    val_loss = 0\n",
    "    val_acc = 0\n",
    "\n",
    "    lenet.eval()\n",
    "    with torch.no_grad():\n",
    "        for batch_idx, (test_features, test_labels) in enumerate(dataloader_test):\n",
    "            predictions = lenet(test_features)\n",
    "            predictions_labels = torch.argmax(predictions, dim=1)\n",
    "\n",
    "            test_batch_acc = (predictions_labels == test_labels).sum().item() / test_features.shape[0]\n",
    "            test_batch_loss = loss(predictions, test_labels)\n",
    "\n",
    "            val_loss += test_batch_loss.item()\n",
    "            val_acc += test_batch_acc\n",
    "\n",
    "    train_loss /= num_train_batches\n",
    "    train_acc /= num_train_batches\n",
    "\n",
    "    val_loss /= num_test_batches\n",
    "    val_acc /= num_test_batches\n",
    "\n",
    "    writer.add_scalar(\"Loss/train\", train_loss, epoch)\n",
    "    writer.add_scalar('Accuracy/train', train_acc, epoch)\n",
    "\n",
    "    writer.add_scalar(\"Loss/val\", val_loss, epoch)\n",
    "    writer.add_scalar('Accuracy/val', val_acc, epoch)"
   ]
  },
  {
   "cell_type": "code",
   "execution_count": 100,
   "id": "908196f4",
   "metadata": {},
   "outputs": [],
   "source": [
    "writer.flush()"
   ]
  },
  {
   "cell_type": "code",
   "execution_count": null,
   "id": "3a906a3a",
   "metadata": {},
   "outputs": [],
   "source": []
  }
 ],
 "metadata": {
  "kernelspec": {
   "display_name": "Python 3",
   "language": "python",
   "name": "python3"
  },
  "language_info": {
   "codemirror_mode": {
    "name": "ipython",
    "version": 3
   },
   "file_extension": ".py",
   "mimetype": "text/x-python",
   "name": "python",
   "nbconvert_exporter": "python",
   "pygments_lexer": "ipython3",
   "version": "3.12.3"
  }
 },
 "nbformat": 4,
 "nbformat_minor": 5
}

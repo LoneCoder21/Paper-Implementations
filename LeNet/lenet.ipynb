{
 "cells": [
  {
   "cell_type": "code",
   "execution_count": 24,
   "id": "6b62ea01",
   "metadata": {},
   "outputs": [],
   "source": [
    "import torch\n",
    "from torch import nn\n",
    "import torchvision\n",
    "from torchvision.transforms import ToTensor\n",
    "from torch.utils.data import DataLoader"
   ]
  },
  {
   "cell_type": "code",
   "execution_count": null,
   "id": "9ec94594",
   "metadata": {},
   "outputs": [],
   "source": [
    "fashion_mnist_train = torchvision.datasets.FashionMNIST(root='data', train=True, download=True, transform=ToTensor()) # normalized\n",
    "fashion_mnist_test = torchvision.datasets.FashionMNIST(root='data', train=False, download=True, transform=ToTensor()) # normalized"
   ]
  },
  {
   "cell_type": "code",
   "execution_count": null,
   "id": "8e6e7981",
   "metadata": {},
   "outputs": [],
   "source": [
    "class LeNet(nn.Module):\n",
    "    def __init__(self):\n",
    "        super().__init__()\n",
    "        self.model =  nn.Sequential(nn.Conv2d(1,6,5, padding=2),\n",
    "                                    nn.Sigmoid(),\n",
    "                                    nn.AvgPool2d(2, stride=2),\n",
    "                                    nn.Conv2d(6,16,5),\n",
    "                                    nn.Sigmoid(),\n",
    "                                    nn.AvgPool2d(2, stride=2),\n",
    "                                    nn.Flatten(),\n",
    "                                    nn.Linear(400, 120),\n",
    "                                    nn.Sigmoid(),\n",
    "                                    nn.Linear(120, 84),\n",
    "                                    nn.Sigmoid(),\n",
    "                                    nn.Linear(84, 10))\n",
    "\n",
    "    def forward(self, x):\n",
    "        x = self.model(x)\n",
    "        return x"
   ]
  },
  {
   "cell_type": "code",
   "execution_count": 63,
   "id": "03119e25",
   "metadata": {},
   "outputs": [
    {
     "data": {
      "text/plain": [
       "LeNet(\n",
       "  (model): Sequential(\n",
       "    (0): Conv2d(1, 6, kernel_size=(5, 5), stride=(1, 1), padding=(2, 2))\n",
       "    (1): Sigmoid()\n",
       "    (2): AvgPool2d(kernel_size=2, stride=2, padding=0)\n",
       "    (3): Conv2d(6, 16, kernel_size=(5, 5), stride=(1, 1))\n",
       "    (4): Sigmoid()\n",
       "    (5): AvgPool2d(kernel_size=2, stride=2, padding=0)\n",
       "    (6): Flatten(start_dim=1, end_dim=-1)\n",
       "    (7): Linear(in_features=400, out_features=120, bias=True)\n",
       "    (8): Sigmoid()\n",
       "    (9): Linear(in_features=120, out_features=84, bias=True)\n",
       "    (10): Sigmoid()\n",
       "    (11): Linear(in_features=84, out_features=10, bias=True)\n",
       "  )\n",
       ")"
      ]
     },
     "execution_count": 63,
     "metadata": {},
     "output_type": "execute_result"
    }
   ],
   "source": [
    "lenet = LeNet()\n",
    "lenet"
   ]
  },
  {
   "cell_type": "code",
   "execution_count": 49,
   "id": "c057778c",
   "metadata": {},
   "outputs": [],
   "source": [
    "epochs = 10\n",
    "learning_rate = 0.01\n",
    "batch_size = 12"
   ]
  },
  {
   "cell_type": "code",
   "execution_count": null,
   "id": "9d205507",
   "metadata": {},
   "outputs": [],
   "source": [
    "dataloader = DataLoader(fashion_mnist_train, batch_size=batch_size, shuffle=True)\n",
    "loss = None\n",
    "optimizer = None"
   ]
  },
  {
   "cell_type": "code",
   "execution_count": 41,
   "id": "44b736db",
   "metadata": {},
   "outputs": [
    {
     "name": "stderr",
     "output_type": "stream",
     "text": [
      "C:\\Users\\abhin\\AppData\\Roaming\\Python\\Python312\\site-packages\\torch\\utils\\data\\dataloader.py:665: UserWarning: 'pin_memory' argument is set as true but no accelerator is found, then device pinned memory won't be used.\n",
      "  warnings.warn(warn_msg)\n"
     ]
    }
   ],
   "source": [
    "for train_features, train_labels in iter(dataloader):\n",
    "    continue"
   ]
  },
  {
   "cell_type": "code",
   "execution_count": null,
   "id": "40439765",
   "metadata": {},
   "outputs": [],
   "source": []
  }
 ],
 "metadata": {
  "kernelspec": {
   "display_name": "Python 3",
   "language": "python",
   "name": "python3"
  },
  "language_info": {
   "codemirror_mode": {
    "name": "ipython",
    "version": 3
   },
   "file_extension": ".py",
   "mimetype": "text/x-python",
   "name": "python",
   "nbconvert_exporter": "python",
   "pygments_lexer": "ipython3",
   "version": "3.12.3"
  }
 },
 "nbformat": 4,
 "nbformat_minor": 5
}

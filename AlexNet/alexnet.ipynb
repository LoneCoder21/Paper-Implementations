{
 "cells": [
  {
   "cell_type": "code",
   "execution_count": 13,
   "id": "6b62ea01",
   "metadata": {},
   "outputs": [],
   "source": [
    "import torch\n",
    "from torch import nn\n",
    "import torchvision\n",
    "from torchvision.transforms import ToTensor\n",
    "from torch.utils.data import DataLoader\n",
    "from torch.utils.tensorboard import SummaryWriter\n",
    "from torchvision.transforms import v2"
   ]
  },
  {
   "cell_type": "markdown",
   "id": "ca365edc",
   "metadata": {},
   "source": [
    "**Enable cuda if available**"
   ]
  },
  {
   "cell_type": "code",
   "execution_count": 14,
   "id": "855c4b8b",
   "metadata": {},
   "outputs": [
    {
     "data": {
      "text/plain": [
       "device(type='cuda')"
      ]
     },
     "execution_count": 14,
     "metadata": {},
     "output_type": "execute_result"
    }
   ],
   "source": [
    "device = torch.device('cuda' if torch.cuda.is_available() else 'cpu')\n",
    "device"
   ]
  },
  {
   "cell_type": "code",
   "execution_count": 15,
   "id": "07206713",
   "metadata": {},
   "outputs": [
    {
     "name": "stdout",
     "output_type": "stream",
     "text": [
      "NVIDIA GeForce RTX 3050 Ti Laptop GPU\n"
     ]
    }
   ],
   "source": [
    "if device.type == 'cuda':\n",
    "    print(torch.cuda.get_device_name(0))"
   ]
  },
  {
   "cell_type": "code",
   "execution_count": 16,
   "id": "cd0be0fc",
   "metadata": {},
   "outputs": [],
   "source": [
    "writer = SummaryWriter()"
   ]
  },
  {
   "cell_type": "markdown",
   "id": "05d3435d",
   "metadata": {},
   "source": [
    "**Use Imagenette instead of Imagenet**"
   ]
  },
  {
   "cell_type": "code",
   "execution_count": null,
   "id": "e2562cd4",
   "metadata": {},
   "outputs": [],
   "source": [
    "img_transforms = v2.Compose([\n",
    "    v2.Resize((256, 256)),\n",
    "    v2.RandomCrop((224, 224)),\n",
    "    v2.RandomHorizontalFlip(p=0.5),\n",
    "    ToTensor()\n",
    "])\n",
    "\n",
    "# optional normalization step\n",
    "# v2.Normalize(mean=[0.485, 0.456, 0.406], std=[0.229, 0.224, 0.225]),"
   ]
  },
  {
   "cell_type": "code",
   "execution_count": 18,
   "id": "9ec94594",
   "metadata": {},
   "outputs": [
    {
     "data": {
      "text/plain": [
       "(9469, 3925)"
      ]
     },
     "execution_count": 18,
     "metadata": {},
     "output_type": "execute_result"
    }
   ],
   "source": [
    "imagenette_train = torchvision.datasets.Imagenette(root='data', split='train', download=True, transform=img_transforms)\n",
    "imagenette_test = torchvision.datasets.Imagenette(root='data', split='val', download=True, transform=img_transforms)\n",
    "len(imagenette_train), len(imagenette_test)"
   ]
  },
  {
   "cell_type": "code",
   "execution_count": 19,
   "id": "7b07c7a4",
   "metadata": {},
   "outputs": [
    {
     "data": {
      "text/plain": [
       "torch.float32"
      ]
     },
     "execution_count": 19,
     "metadata": {},
     "output_type": "execute_result"
    }
   ],
   "source": [
    "imagenette_train[0][0].dtype"
   ]
  },
  {
   "cell_type": "markdown",
   "id": "5b06a1f2",
   "metadata": {},
   "source": [
    "**Define AlexNet joined architecture**"
   ]
  },
  {
   "cell_type": "code",
   "execution_count": 20,
   "id": "8e6e7981",
   "metadata": {},
   "outputs": [],
   "source": [
    "class AlexNet(nn.Module):\n",
    "    def __init__(self):\n",
    "        super().__init__()\n",
    "        self.model =  nn.Sequential(nn.Conv2d(3,96,11, stride=4),\n",
    "                                    nn.ReLU(),\n",
    "                                    nn.MaxPool2d(3, stride=2),\n",
    "                                    nn.Conv2d(96,256,5, padding=2),\n",
    "                                    nn.ReLU(),\n",
    "                                    nn.MaxPool2d(3, stride=2),\n",
    "                                    nn.Conv2d(256,384,3, padding=1),\n",
    "                                    nn.ReLU(),\n",
    "                                    nn.Conv2d(384,384,3, padding=1),\n",
    "                                    nn.ReLU(),\n",
    "                                    nn.Conv2d(384,256,3, padding=1),\n",
    "                                    nn.ReLU(),\n",
    "                                    nn.MaxPool2d(3, stride=2),\n",
    "                                    nn.Flatten(),\n",
    "                                    nn.Linear(6400, 4096),\n",
    "                                    nn.ReLU(),\n",
    "                                    nn.Dropout(p=0.5),\n",
    "                                    nn.Linear(4096, 4096),\n",
    "                                    nn.ReLU(),\n",
    "                                    nn.Dropout(p=0.5),\n",
    "                                    nn.Linear(4096, 10),\n",
    "                                    )\n",
    "\n",
    "        # initialize based on AlexNet Paper\n",
    "        for m in self.modules():\n",
    "            if isinstance(m, nn.Linear) or isinstance(m, nn.Conv2d):\n",
    "                nn.init.normal_(m.weight, std=0.01)\n",
    "\n",
    "    def forward(self, x):\n",
    "        x = self.model(x)\n",
    "        return x"
   ]
  },
  {
   "cell_type": "markdown",
   "id": "9464ffbc",
   "metadata": {},
   "source": [
    "**Move model to specified device**"
   ]
  },
  {
   "cell_type": "code",
   "execution_count": 21,
   "id": "03119e25",
   "metadata": {},
   "outputs": [
    {
     "data": {
      "text/plain": [
       "AlexNet(\n",
       "  (model): Sequential(\n",
       "    (0): Conv2d(3, 96, kernel_size=(11, 11), stride=(4, 4))\n",
       "    (1): ReLU()\n",
       "    (2): MaxPool2d(kernel_size=3, stride=2, padding=0, dilation=1, ceil_mode=False)\n",
       "    (3): Conv2d(96, 256, kernel_size=(5, 5), stride=(1, 1), padding=(2, 2))\n",
       "    (4): ReLU()\n",
       "    (5): MaxPool2d(kernel_size=3, stride=2, padding=0, dilation=1, ceil_mode=False)\n",
       "    (6): Conv2d(256, 384, kernel_size=(3, 3), stride=(1, 1), padding=(1, 1))\n",
       "    (7): ReLU()\n",
       "    (8): Conv2d(384, 384, kernel_size=(3, 3), stride=(1, 1), padding=(1, 1))\n",
       "    (9): ReLU()\n",
       "    (10): Conv2d(384, 256, kernel_size=(3, 3), stride=(1, 1), padding=(1, 1))\n",
       "    (11): ReLU()\n",
       "    (12): MaxPool2d(kernel_size=3, stride=2, padding=0, dilation=1, ceil_mode=False)\n",
       "    (13): Flatten(start_dim=1, end_dim=-1)\n",
       "    (14): Linear(in_features=6400, out_features=4096, bias=True)\n",
       "    (15): ReLU()\n",
       "    (16): Dropout(p=0.5, inplace=False)\n",
       "    (17): Linear(in_features=4096, out_features=4096, bias=True)\n",
       "    (18): ReLU()\n",
       "    (19): Dropout(p=0.5, inplace=False)\n",
       "    (20): Linear(in_features=4096, out_features=10, bias=True)\n",
       "  )\n",
       ")"
      ]
     },
     "execution_count": 21,
     "metadata": {},
     "output_type": "execute_result"
    }
   ],
   "source": [
    "model = AlexNet().to(device=device)\n",
    "model"
   ]
  },
  {
   "cell_type": "markdown",
   "id": "ab14b0b2",
   "metadata": {},
   "source": [
    "**Hyperparameters**"
   ]
  },
  {
   "cell_type": "code",
   "execution_count": 22,
   "id": "c057778c",
   "metadata": {},
   "outputs": [],
   "source": [
    "epochs = 50\n",
    "learning_rate = 0.01\n",
    "batch_size = 128\n",
    "momentum = 0.9\n",
    "weight_decay = 0.0005"
   ]
  },
  {
   "cell_type": "markdown",
   "id": "cbaafe7f",
   "metadata": {},
   "source": [
    "**Loss Function + Optimizer**"
   ]
  },
  {
   "cell_type": "code",
   "execution_count": 23,
   "id": "9d205507",
   "metadata": {},
   "outputs": [
    {
     "data": {
      "text/plain": [
       "(74, 31)"
      ]
     },
     "execution_count": 23,
     "metadata": {},
     "output_type": "execute_result"
    }
   ],
   "source": [
    "dataloader_train = DataLoader(imagenette_train, batch_size=batch_size, shuffle=True)\n",
    "dataloader_test = DataLoader(imagenette_test, batch_size=batch_size, shuffle=True)\n",
    "\n",
    "num_train_batches = len(dataloader_train)\n",
    "num_test_batches = len(dataloader_test)\n",
    "\n",
    "loss = nn.CrossEntropyLoss()\n",
    "optimizer = torch.optim.SGD(model.parameters(), lr=learning_rate, momentum=momentum, weight_decay=weight_decay)\n",
    "num_train_batches, num_test_batches"
   ]
  },
  {
   "cell_type": "markdown",
   "id": "7f704bf3",
   "metadata": {},
   "source": [
    "**Train + Validation**"
   ]
  },
  {
   "cell_type": "code",
   "execution_count": 24,
   "id": "22914915",
   "metadata": {},
   "outputs": [],
   "source": [
    "for epoch in range(epochs):\n",
    "    train_loss = 0\n",
    "    train_acc = 0\n",
    "\n",
    "    model.train() # training model\n",
    "    for batch_idx, (train_features, train_labels) in enumerate(dataloader_train):\n",
    "        train_features = train_features.to(device)\n",
    "        train_labels = train_labels.to(device) # move to device\n",
    "\n",
    "        optimizer.zero_grad()\n",
    "\n",
    "        predictions = model(train_features)\n",
    "        predictions_labels = torch.argmax(predictions, dim=1)\n",
    "\n",
    "        train_batch_acc = (predictions_labels == train_labels).sum().item() / train_features.shape[0]\n",
    "\n",
    "        train_batch_loss = loss(predictions, train_labels)\n",
    "        train_batch_loss.backward()\n",
    "\n",
    "        optimizer.step()\n",
    "\n",
    "        train_loss += train_batch_loss.item()\n",
    "        train_acc += train_batch_acc\n",
    "\n",
    "    val_loss = 0\n",
    "    val_acc = 0\n",
    "\n",
    "    model.eval() # evaluation mode\n",
    "    with torch.no_grad():\n",
    "        for batch_idx, (test_features, test_labels) in enumerate(dataloader_test):\n",
    "            test_features = test_features.to(device)\n",
    "            test_labels = test_labels.to(device) # move to device\n",
    "\n",
    "            predictions = model(test_features)\n",
    "            predictions_labels = torch.argmax(predictions, dim=1)\n",
    "\n",
    "            test_batch_acc = (predictions_labels == test_labels).sum().item() / test_features.shape[0]\n",
    "            test_batch_loss = loss(predictions, test_labels)\n",
    "\n",
    "            val_loss += test_batch_loss.item()\n",
    "            val_acc += test_batch_acc\n",
    "\n",
    "    train_loss /= num_train_batches\n",
    "    train_acc /= num_train_batches\n",
    "\n",
    "    val_loss /= num_test_batches\n",
    "    val_acc /= num_test_batches\n",
    "\n",
    "    writer.add_scalar(\"Loss/train\", train_loss, epoch)\n",
    "    writer.add_scalar('Accuracy/train', train_acc, epoch)\n",
    "\n",
    "    writer.add_scalar(\"Loss/val\", val_loss, epoch)\n",
    "    writer.add_scalar('Accuracy/val', val_acc, epoch)"
   ]
  },
  {
   "cell_type": "code",
   "execution_count": 25,
   "id": "908196f4",
   "metadata": {},
   "outputs": [],
   "source": [
    "writer.flush()"
   ]
  },
  {
   "cell_type": "code",
   "execution_count": null,
   "id": "ec5b5ac4",
   "metadata": {},
   "outputs": [],
   "source": []
  }
 ],
 "metadata": {
  "kernelspec": {
   "display_name": "Python 3",
   "language": "python",
   "name": "python3"
  },
  "language_info": {
   "codemirror_mode": {
    "name": "ipython",
    "version": 3
   },
   "file_extension": ".py",
   "mimetype": "text/x-python",
   "name": "python",
   "nbconvert_exporter": "python",
   "pygments_lexer": "ipython3",
   "version": "3.12.3"
  }
 },
 "nbformat": 4,
 "nbformat_minor": 5
}
